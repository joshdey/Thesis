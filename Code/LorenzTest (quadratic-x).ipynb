{
 "cells": [
  {
   "cell_type": "code",
   "execution_count": null,
   "metadata": {},
   "outputs": [],
   "source": [
    "from ESN import simple_ESN as sesn\n",
    "import ESN\n",
    "import ESNteachers as teach\n",
    "import numpy as np\n",
    "import aux\n",
    "import matplotlib.pyplot as plt"
   ]
  },
  {
   "cell_type": "code",
   "execution_count": null,
   "metadata": {},
   "outputs": [],
   "source": [
    "x, y, z = teach.Lorenz(400, 0.01)\n",
    "xrun, yrun, zrun = teach.Lorenz(10000, 0.01)\n",
    "yz = np.concatenate((y,z), axis=1)\n",
    "xz = np.concatenate((x,z), axis=1)\n",
    "xy = np.concatenate((x,y), axis=1)\n",
    "quadcoef=[0.76159, 0.41997, -0.31985]\n",
    "\n",
    "lor = sesn(N=400, K=1, L=2, binary_node=0,a=1.0)\n",
    "W = lor.generate_W(rho=1.0, dens=0.25, cont=0)\n",
    "Win=lor.generate_Win(dens=0.8)\n",
    "\n",
    "trainx = lor.train_ESN(input_dat=x, teacher=yz, around=1, order=2, washout=100, mp=False, B=0.01)"
   ]
  },
  {
   "cell_type": "code",
   "execution_count": null,
   "metadata": {},
   "outputs": [],
   "source": [
    "testrunx = lor.run_ESN(input_dat=xrun,around=1, order=2,time=10000)\n",
    "\n",
    "lorattractorx=lor.plot_attractor(name='testLorenzxquad')\n",
    "\n",
    "xout = lor.outputs\n",
    "\n",
    "xrun1, xrun2=np.hsplit(xout, 2)\n",
    "xrms=[aux.RMS(xrun1, yrun), aux.RMS(xrun2, zrun)]\n",
    "xrmse1=aux.RMS_over_t(xrun1, yrun)\n",
    "xrmse2=aux.RMS_over_t(xrun2, zrun)\n",
    "xrmse = [xrms, xrmse1, xrmse2]\n",
    "\n",
    "xrmse"
   ]
  },
  {
   "cell_type": "code",
   "execution_count": null,
   "metadata": {},
   "outputs": [],
   "source": [
    "plt.plot(xrmse1, '.', markersize=1)\n",
    "plt.show()"
   ]
  },
  {
   "cell_type": "code",
   "execution_count": null,
   "metadata": {},
   "outputs": [],
   "source": [
    "plt.plot(xrmse2, '.', markersize=1)\n",
    "plt.show()"
   ]
  },
  {
   "cell_type": "code",
   "execution_count": null,
   "metadata": {},
   "outputs": [],
   "source": []
  }
 ],
 "metadata": {
  "kernelspec": {
   "display_name": "Python 3",
   "language": "python",
   "name": "python3"
  },
  "language_info": {
   "codemirror_mode": {
    "name": "ipython",
    "version": 3
   },
   "file_extension": ".py",
   "mimetype": "text/x-python",
   "name": "python",
   "nbconvert_exporter": "python",
   "pygments_lexer": "ipython3",
   "version": "3.7.4"
  }
 },
 "nbformat": 4,
 "nbformat_minor": 2
}
