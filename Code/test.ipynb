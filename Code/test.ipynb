{
 "cells": [
  {
   "cell_type": "code",
   "execution_count": 1,
   "metadata": {},
   "outputs": [],
   "source": [
    "from ESN import simple_ESN as sesn\n",
    "import ESN\n",
    "import ESNteachers as teach"
   ]
  },
  {
   "cell_type": "code",
   "execution_count": 2,
   "metadata": {},
   "outputs": [],
   "source": [
    "test = sesn(N=3, K=1, L=1)"
   ]
  },
  {
   "cell_type": "code",
   "execution_count": 3,
   "metadata": {},
   "outputs": [
    {
     "data": {
      "text/plain": [
       "0.8806145453250511"
      ]
     },
     "execution_count": 3,
     "metadata": {},
     "output_type": "execute_result"
    }
   ],
   "source": [
    "test.distribution()"
   ]
  },
  {
   "cell_type": "code",
   "execution_count": 4,
   "metadata": {},
   "outputs": [
    {
     "name": "stderr",
     "output_type": "stream",
     "text": [
      "/Users/joshdey/Documents/GitHub/Thesis/Code/ESN.py:128: RuntimeWarning: divide by zero encountered in double_scalars\n",
      "  W=(rho/lam)*W\n",
      "/Users/joshdey/Documents/GitHub/Thesis/Code/ESN.py:128: RuntimeWarning: invalid value encountered in multiply\n",
      "  W=(rho/lam)*W\n",
      "/Users/joshdey/Documents/GitHub/Thesis/Code/ESN.py:129: RuntimeWarning: divide by zero encountered in double_scalars\n",
      "  self.norm_eigval=(rho/lam)*eigval\n",
      "/Users/joshdey/Documents/GitHub/Thesis/Code/ESN.py:129: RuntimeWarning: invalid value encountered in multiply\n",
      "  self.norm_eigval=(rho/lam)*eigval\n"
     ]
    },
    {
     "data": {
      "text/plain": [
       "array([[ nan,  nan, -inf],\n",
       "       [-inf,  nan,  nan],\n",
       "       [ nan,  nan,  nan]])"
      ]
     },
     "execution_count": 4,
     "metadata": {},
     "output_type": "execute_result"
    }
   ],
   "source": [
    "W = test.generate_W(rho=0.9, dens=0.5, cont=0)\n",
    "W"
   ]
  },
  {
   "cell_type": "code",
   "execution_count": null,
   "metadata": {},
   "outputs": [],
   "source": [
    "test.specify_W(W)"
   ]
  },
  {
   "cell_type": "code",
   "execution_count": null,
   "metadata": {},
   "outputs": [],
   "source": [
    "Win=test.generate_Win()\n",
    "Win"
   ]
  },
  {
   "cell_type": "code",
   "execution_count": null,
   "metadata": {},
   "outputs": [],
   "source": [
    "W_fb = test.generate_Wfb()\n",
    "W_fb"
   ]
  },
  {
   "cell_type": "code",
   "execution_count": null,
   "metadata": {},
   "outputs": [],
   "source": [
    "sin_input = teach.sine_teacher()\n",
    "sin_output = teach.sine_teacher(length=300, dt=0.01, f=8, amp=1)"
   ]
  },
  {
   "cell_type": "code",
   "execution_count": null,
   "metadata": {},
   "outputs": [],
   "source": [
    "train = test.train_ESN(input_dat=sin_input, teacher=sin_output, around=0, order=3, washout=50, mp=True)\n",
    "train"
   ]
  },
  {
   "cell_type": "code",
   "execution_count": null,
   "metadata": {},
   "outputs": [],
   "source": [
    "testrun = test.run_ESN(input_dat=sin_input,around=0, order=3,time=100)"
   ]
  },
  {
   "cell_type": "code",
   "execution_count": null,
   "metadata": {},
   "outputs": [],
   "source": [
    "test.plot_internal(nodes=[0,3])"
   ]
  },
  {
   "cell_type": "code",
   "execution_count": null,
   "metadata": {},
   "outputs": [],
   "source": [
    "test.plot_eigvals()"
   ]
  },
  {
   "cell_type": "code",
   "execution_count": null,
   "metadata": {},
   "outputs": [],
   "source": []
  }
 ],
 "metadata": {
  "kernelspec": {
   "display_name": "Python 3",
   "language": "python",
   "name": "python3"
  },
  "language_info": {
   "codemirror_mode": {
    "name": "ipython",
    "version": 3
   },
   "file_extension": ".py",
   "mimetype": "text/x-python",
   "name": "python",
   "nbconvert_exporter": "python",
   "pygments_lexer": "ipython3",
   "version": "3.7.4"
  }
 },
 "nbformat": 4,
 "nbformat_minor": 2
}
