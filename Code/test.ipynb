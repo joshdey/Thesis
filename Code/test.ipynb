{
 "cells": [
  {
   "cell_type": "code",
   "execution_count": 1,
   "metadata": {},
   "outputs": [],
   "source": [
    "from ESN import simple_ESN as sesn\n",
    "import ESN"
   ]
  },
  {
   "cell_type": "code",
   "execution_count": 2,
   "metadata": {},
   "outputs": [],
   "source": [
    "esn = sesn()"
   ]
  },
  {
   "cell_type": "code",
   "execution_count": 3,
   "metadata": {},
   "outputs": [
    {
     "data": {
      "text/plain": [
       "-0.8747033264001616"
      ]
     },
     "execution_count": 3,
     "metadata": {},
     "output_type": "execute_result"
    }
   ],
   "source": [
    "esn.distribution()"
   ]
  },
  {
   "cell_type": "code",
   "execution_count": 4,
   "metadata": {},
   "outputs": [
    {
     "data": {
      "text/plain": [
       "array([[ 0.        ,  0.35714257,  0.        ,  0.35714257, -0.35714257,\n",
       "         0.        , -0.35714257,  0.        , -0.35714257,  0.        ],\n",
       "       [ 0.35714257,  0.        , -0.35714257,  0.        ,  0.35714257,\n",
       "         0.        ,  0.        , -0.35714257, -0.35714257,  0.        ],\n",
       "       [ 0.        ,  0.        ,  0.        ,  0.        ,  0.        ,\n",
       "        -0.35714257, -0.35714257,  0.        ,  0.        ,  0.35714257],\n",
       "       [ 0.        ,  0.35714257,  0.        ,  0.        , -0.35714257,\n",
       "         0.        , -0.35714257,  0.        , -0.35714257, -0.35714257],\n",
       "       [ 0.        ,  0.35714257,  0.35714257,  0.        ,  0.        ,\n",
       "        -0.35714257, -0.35714257,  0.        ,  0.35714257,  0.        ],\n",
       "       [ 0.        ,  0.35714257,  0.35714257, -0.35714257, -0.35714257,\n",
       "         0.        , -0.35714257,  0.        ,  0.35714257,  0.        ],\n",
       "       [ 0.        ,  0.        , -0.35714257,  0.        ,  0.        ,\n",
       "        -0.35714257,  0.        ,  0.35714257,  0.        ,  0.        ],\n",
       "       [ 0.35714257,  0.        ,  0.        ,  0.35714257,  0.        ,\n",
       "         0.35714257, -0.35714257,  0.        ,  0.        ,  0.        ],\n",
       "       [ 0.        ,  0.        , -0.35714257, -0.35714257,  0.35714257,\n",
       "         0.        ,  0.        , -0.35714257,  0.        , -0.35714257],\n",
       "       [ 0.        ,  0.        ,  0.35714257,  0.        , -0.35714257,\n",
       "         0.        ,  0.35714257, -0.35714257,  0.        ,  0.        ]])"
      ]
     },
     "execution_count": 4,
     "metadata": {},
     "output_type": "execute_result"
    }
   ],
   "source": [
    "W = esn.generate_W()\n",
    "W"
   ]
  },
  {
   "cell_type": "code",
   "execution_count": 5,
   "metadata": {},
   "outputs": [
    {
     "data": {
      "text/plain": [
       "array([[ 0.        ,  0.50955451,  0.        ,  0.50955451, -0.50955451,\n",
       "         0.        , -0.50955451,  0.        , -0.50955451,  0.        ],\n",
       "       [ 0.50955451,  0.        , -0.50955451,  0.        ,  0.50955451,\n",
       "         0.        ,  0.        , -0.50955451, -0.50955451,  0.        ],\n",
       "       [ 0.        ,  0.        ,  0.        ,  0.        ,  0.        ,\n",
       "        -0.50955451, -0.50955451,  0.        ,  0.        ,  0.50955451],\n",
       "       [ 0.        ,  0.50955451,  0.        ,  0.        , -0.50955451,\n",
       "         0.        , -0.50955451,  0.        , -0.50955451, -0.50955451],\n",
       "       [ 0.        ,  0.50955451,  0.50955451,  0.        ,  0.        ,\n",
       "        -0.50955451, -0.50955451,  0.        ,  0.50955451,  0.        ],\n",
       "       [ 0.        ,  0.50955451,  0.50955451, -0.50955451, -0.50955451,\n",
       "         0.        , -0.50955451,  0.        ,  0.50955451,  0.        ],\n",
       "       [ 0.        ,  0.        , -0.50955451,  0.        ,  0.        ,\n",
       "        -0.50955451,  0.        ,  0.50955451,  0.        ,  0.        ],\n",
       "       [ 0.50955451,  0.        ,  0.        ,  0.50955451,  0.        ,\n",
       "         0.50955451, -0.50955451,  0.        ,  0.        ,  0.        ],\n",
       "       [ 0.        ,  0.        , -0.50955451, -0.50955451,  0.50955451,\n",
       "         0.        ,  0.        , -0.50955451,  0.        , -0.50955451],\n",
       "       [ 0.        ,  0.        ,  0.50955451,  0.        , -0.50955451,\n",
       "         0.        ,  0.50955451, -0.50955451,  0.        ,  0.        ]])"
      ]
     },
     "execution_count": 5,
     "metadata": {},
     "output_type": "execute_result"
    }
   ],
   "source": [
    "esn.specify_W(W)"
   ]
  },
  {
   "cell_type": "code",
   "execution_count": 8,
   "metadata": {},
   "outputs": [
    {
     "data": {
      "text/plain": [
       "array([[ 0.        ,  0.        ],\n",
       "       [ 0.        ,  0.        ],\n",
       "       [-0.70695187, -0.41328201],\n",
       "       [ 0.        ,  0.        ],\n",
       "       [ 0.8290825 ,  0.        ],\n",
       "       [ 0.        ,  0.        ],\n",
       "       [-0.96060375, -0.99503699],\n",
       "       [ 0.        ,  0.        ],\n",
       "       [ 0.        ,  0.        ],\n",
       "       [ 0.58490892, -0.71371982]])"
      ]
     },
     "execution_count": 8,
     "metadata": {},
     "output_type": "execute_result"
    }
   ],
   "source": [
    "Win=esn.generate_Win()\n",
    "Win"
   ]
  },
  {
   "cell_type": "code",
   "execution_count": 11,
   "metadata": {},
   "outputs": [
    {
     "data": {
      "text/plain": [
       "array([[ 0.98765876, -0.1141008 ],\n",
       "       [ 0.12831644,  0.        ],\n",
       "       [-0.7065812 ,  0.        ],\n",
       "       [-0.72617399, -0.3745235 ],\n",
       "       [ 0.97967253,  0.        ],\n",
       "       [ 0.        ,  0.        ],\n",
       "       [ 0.        ,  0.        ],\n",
       "       [ 0.        ,  0.        ],\n",
       "       [-0.17221021,  0.        ],\n",
       "       [ 0.        ,  0.        ]])"
      ]
     },
     "execution_count": 11,
     "metadata": {},
     "output_type": "execute_result"
    }
   ],
   "source": [
    "W_fb = esn.generate_Wfb()\n",
    "W_fb"
   ]
  },
  {
   "cell_type": "code",
   "execution_count": 12,
   "metadata": {},
   "outputs": [
    {
     "ename": "AttributeError",
     "evalue": "'NoneType' object has no attribute 'shape'",
     "output_type": "error",
     "traceback": [
      "\u001b[0;31m---------------------------------------------------------------------------\u001b[0m",
      "\u001b[0;31mAttributeError\u001b[0m                            Traceback (most recent call last)",
      "\u001b[0;32m<ipython-input-12-85fbf2d4b342>\u001b[0m in \u001b[0;36m<module>\u001b[0;34m\u001b[0m\n\u001b[0;32m----> 1\u001b[0;31m \u001b[0mW_out\u001b[0m \u001b[0;34m=\u001b[0m \u001b[0mesn\u001b[0m\u001b[0;34m.\u001b[0m\u001b[0mtrain_ESN\u001b[0m\u001b[0;34m(\u001b[0m\u001b[0;34m)\u001b[0m\u001b[0;34m\u001b[0m\u001b[0;34m\u001b[0m\u001b[0m\n\u001b[0m",
      "\u001b[0;32m~/Documents/GitHub/Thesis/Code/ESN.py\u001b[0m in \u001b[0;36mtrain_ESN\u001b[0;34m(self, input_dat, teacher, around, order, washout, noise, bias, mp, B)\u001b[0m\n\u001b[1;32m    238\u001b[0m             \u001b[0mself\u001b[0m\u001b[0;34m.\u001b[0m\u001b[0mW_out\u001b[0m \u001b[0;34m(\u001b[0m\u001b[0mLxN\u001b[0m \u001b[0marray\u001b[0m\u001b[0;34m)\u001b[0m\u001b[0;34m:\u001b[0m \u001b[0mtrained\u001b[0m \u001b[0msimple_ESN\u001b[0m \u001b[0moutput\u001b[0m \u001b[0mweights\u001b[0m\u001b[0;34m.\u001b[0m\u001b[0;34m\u001b[0m\u001b[0;34m\u001b[0m\u001b[0m\n\u001b[1;32m    239\u001b[0m         \"\"\"\n\u001b[0;32m--> 240\u001b[0;31m         \u001b[0mtime\u001b[0m\u001b[0;34m=\u001b[0m\u001b[0mteacher\u001b[0m\u001b[0;34m.\u001b[0m\u001b[0mshape\u001b[0m\u001b[0;34m[\u001b[0m\u001b[0;36m0\u001b[0m\u001b[0;34m]\u001b[0m \u001b[0;31m#(time,L)\u001b[0m\u001b[0;34m\u001b[0m\u001b[0;34m\u001b[0m\u001b[0m\n\u001b[0m\u001b[1;32m    241\u001b[0m         \u001b[0;32mif\u001b[0m \u001b[0minput_dat\u001b[0m \u001b[0;32mis\u001b[0m \u001b[0;32mNone\u001b[0m\u001b[0;34m:\u001b[0m\u001b[0;34m\u001b[0m\u001b[0;34m\u001b[0m\u001b[0m\n\u001b[1;32m    242\u001b[0m             \u001b[0minput_dat\u001b[0m\u001b[0;34m=\u001b[0m\u001b[0mnp\u001b[0m\u001b[0;34m.\u001b[0m\u001b[0mzeros\u001b[0m\u001b[0;34m(\u001b[0m\u001b[0;34m[\u001b[0m\u001b[0mtime\u001b[0m\u001b[0;34m,\u001b[0m\u001b[0mself\u001b[0m\u001b[0;34m.\u001b[0m\u001b[0mK\u001b[0m\u001b[0;34m]\u001b[0m\u001b[0;34m)\u001b[0m\u001b[0;34m\u001b[0m\u001b[0;34m\u001b[0m\u001b[0m\n",
      "\u001b[0;31mAttributeError\u001b[0m: 'NoneType' object has no attribute 'shape'"
     ]
    }
   ],
   "source": [
    "W_out = esn.train_ESN()"
   ]
  },
  {
   "cell_type": "code",
   "execution_count": null,
   "metadata": {},
   "outputs": [],
   "source": []
  }
 ],
 "metadata": {
  "kernelspec": {
   "display_name": "Python 3",
   "language": "python",
   "name": "python3"
  },
  "language_info": {
   "codemirror_mode": {
    "name": "ipython",
    "version": 3
   },
   "file_extension": ".py",
   "mimetype": "text/x-python",
   "name": "python",
   "nbconvert_exporter": "python",
   "pygments_lexer": "ipython3",
   "version": "3.7.4"
  }
 },
 "nbformat": 4,
 "nbformat_minor": 2
}
